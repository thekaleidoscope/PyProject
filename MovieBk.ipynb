{
 "cells": [
  {
   "cell_type": "markdown",
   "metadata": {},
   "source": [
    "## Real-Time Movie Management System\n",
    "\n",
    "*Uses Python with Sqlite library to interact with a local database.\n",
    "\n",
    "<br>\n"
   ]
  },
  {
   "cell_type": "code",
   "execution_count": 1,
   "metadata": {},
   "outputs": [],
   "source": [
    "\n",
    "\n",
    "#!/usr/bin/python\n",
    "\n",
    "import sqlite3\n"
   ]
  },
  {
   "cell_type": "code",
   "execution_count": 2,
   "metadata": {},
   "outputs": [
    {
     "name": "stdout",
     "output_type": "stream",
     "text": [
      "Connected successful to the database\n"
     ]
    }
   ],
   "source": [
    "conn = sqlite3.connect('movies.db')\n",
    "print('Connected successful to the database')"
   ]
  },
  {
   "cell_type": "code",
   "execution_count": 3,
   "metadata": {},
   "outputs": [
    {
     "name": "stdout",
     "output_type": "stream",
     "text": [
      "\n",
      "Movie Theater Active\n"
     ]
    }
   ],
   "source": [
    "moviec=3\n",
    "conn.execute(''' CREATE TABLE IF NOT EXISTS Movies(id int primary key, moviename text not null,Seats int ,price int);''')\n",
    "print('\\nMovie Theater Active')\n"
   ]
  },
  {
   "cell_type": "code",
   "execution_count": 6,
   "metadata": {},
   "outputs": [],
   "source": [
    "def newmovie(_id,mname,tseats,_price):\n",
    "        #print(' Insert Into Movies(id,moviename, Seats,price) Values({:d},\"{}\",{:d},{:d});'.format(_id,mname,tseats,_price))\n",
    "    conn.execute(' Insert Into Movies(id,moviename, Seats,price) Values({},\"{}\",{},{});'.format(_id,mname,tseats,_price))\n"
   ]
  },
  {
   "cell_type": "code",
   "execution_count": 7,
   "metadata": {},
   "outputs": [],
   "source": [
    "\n",
    "def showmoviesall():\n",
    "    print('\\nAll Movies Played')\n",
    "\n",
    "    cursor= conn.execute(''' Select id,moviename, Seats,price From Movies ''')\n",
    "    for row in cursor:\n",
    "        print('Movie Id:', row[0])\n",
    "        print('Movie Name:', row[1])\n",
    "        print('Seats Available', row[2])\n",
    "        print('Ticket Price:', row[3])\n"
   ]
  },
  {
   "cell_type": "code",
   "execution_count": 8,
   "metadata": {},
   "outputs": [],
   "source": [
    "\n",
    "def showmovie(id):\n",
    "    cursor= conn.execute(''' Select id,moviename, Seats,price From Movies where id is {} '''.format(id))\n",
    "    print(\"\\nMovie chosen is {}\".format(cursor.fetchone()[1]))\n",
    "    cursor= conn.execute(''' Select id,moviename, Seats,price From Movies where id is {} '''.format(id))\n",
    "    for row in cursor:\n",
    "        print('Movie Id:', row[0])\n",
    "        print('Movie Name:', row[1])\n",
    "        print('Seats Available', row[2])\n",
    "        print('Ticket Price:', row[3])"
   ]
  },
  {
   "cell_type": "code",
   "execution_count": 9,
   "metadata": {},
   "outputs": [],
   "source": [
    "def fetchseat(id):def removemovie(id):\n",
    "    conn.execute('''Delete From Movies Where id is {} '''.format(id))\n",
    "    cursor= conn.execute(''' Select Seats From Movies where id is {} '''.format(id))\n",
    "    return(cursor.fetchone()[0])"
   ]
  },
  {
   "cell_type": "code",
   "execution_count": 10,
   "metadata": {},
   "outputs": [],
   "source": [
    "def book(id,seat):\n",
    "    conn.execute('''Update Movies Set Seats ={} where id is {}; '''.format(fetchseat(id)-seat,id))\n"
   ]
  },
  {
   "cell_type": "code",
   "execution_count": 11,
   "metadata": {},
   "outputs": [],
   "source": [
    "def refundseat(id,seat):\n",
    "    conn.execute('''Update Movies Set Seats ={} where id is {}; '''.format(fetchseat(id)+seat,id))\n",
    "\n",
    "def removemovie(id):\n",
    "    conn.execute('''Delete From Movies Where id is {} '''.format(id))"
   ]
  },
  {
   "cell_type": "code",
   "execution_count": 12,
   "metadata": {},
   "outputs": [],
   "source": [
    "if __name__== '__main__':\n",
    "\n",
    "\n",
    "    movies = [\n",
    "        (1,\"The Hunger Games: Catching Fire\", 100,120),\n",
    "        (2,\"Wreck-It Ralph\", 70,100),\n",
    "        (3,\"Her\", 80,122)\n",
    "        ]\n",
    "\n",
    "    '''conn.executemany(\"\"\" INSERT INTO Movies(\n",
    "    movie_name, movie_rating) VALUES(?,?)\n",
    "    \"\"\", movies)'''\n",
    "    conn.commit()\n"
   ]
  },
  {
   "cell_type": "code",
   "execution_count": 13,
   "metadata": {},
   "outputs": [
    {
     "name": "stdout",
     "output_type": "stream",
     "text": [
      "\n",
      "All Movies Played\n",
      "('Movie Id:', 1)\n",
      "('Movie Name:', u'The Hunger Games: Catching Fire')\n",
      "('Seats Available', 100)\n",
      "('Ticket Price:', 120)\n",
      "('Movie Id:', 2)\n",
      "('Movie Name:', u'Wreck-It Ralph')\n",
      "('Seats Available', 70)\n",
      "('Ticket Price:', 100)\n",
      "('Movie Id:', 3)\n",
      "('Movie Name:', u'Her')\n",
      "('Seats Available', 80)\n",
      "('Ticket Price:', 122)\n"
     ]
    }
   ],
   "source": [
    "    showmoviesall()"
   ]
  },
  {
   "cell_type": "code",
   "execution_count": 14,
   "metadata": {},
   "outputs": [],
   "source": [
    "    moviec+=1\n",
    "    newmovie(moviec,\"AmericanPie\",120,200)\n"
   ]
  },
  {
   "cell_type": "code",
   "execution_count": 15,
   "metadata": {},
   "outputs": [],
   "source": [
    "    moviec+=1\n",
    "    newmovie(moviec,\"La La Land\",100,80)"
   ]
  },
  {
   "cell_type": "code",
   "execution_count": 16,
   "metadata": {},
   "outputs": [
    {
     "name": "stdout",
     "output_type": "stream",
     "text": [
      "\n",
      "All Movies Played\n",
      "('Movie Id:', 1)\n",
      "('Movie Name:', u'The Hunger Games: Catching Fire')\n",
      "('Seats Available', 100)\n",
      "('Ticket Price:', 120)\n",
      "('Movie Id:', 2)\n",
      "('Movie Name:', u'Wreck-It Ralph')\n",
      "('Seats Available', 70)\n",
      "('Ticket Price:', 100)\n",
      "('Movie Id:', 3)\n",
      "('Movie Name:', u'Her')\n",
      "('Seats Available', 80)\n",
      "('Ticket Price:', 122)\n",
      "('Movie Id:', 4)\n",
      "('Movie Name:', u'AmericanPie')\n",
      "('Seats Available', 120)\n",
      "('Ticket Price:', 200)\n",
      "('Movie Id:', 5)\n",
      "('Movie Name:', u'La La Land')\n",
      "('Seats Available', 100)\n",
      "('Ticket Price:', 80)\n"
     ]
    }
   ],
   "source": [
    "    showmoviesall()"
   ]
  },
  {
   "cell_type": "code",
   "execution_count": 17,
   "metadata": {},
   "outputs": [
    {
     "name": "stdout",
     "output_type": "stream",
     "text": [
      "\n",
      "Movie chosen is Wreck-It Ralph\n",
      "('Movie Id:', 2)\n",
      "('Movie Name:', u'Wreck-It Ralph')\n",
      "('Seats Available', 70)\n",
      "('Ticket Price:', 100)\n"
     ]
    }
   ],
   "source": [
    "    showmovie(2)"
   ]
  },
  {
   "cell_type": "code",
   "execution_count": 18,
   "metadata": {},
   "outputs": [],
   "source": [
    "    book(2,3)\n"
   ]
  },
  {
   "cell_type": "code",
   "execution_count": 19,
   "metadata": {},
   "outputs": [
    {
     "name": "stdout",
     "output_type": "stream",
     "text": [
      "\n",
      "Movie chosen is Wreck-It Ralph\n",
      "('Movie Id:', 2)\n",
      "('Movie Name:', u'Wreck-It Ralph')\n",
      "('Seats Available', 67)\n",
      "('Ticket Price:', 100)\n"
     ]
    }
   ],
   "source": [
    "    showmovie(2)"
   ]
  },
  {
   "cell_type": "code",
   "execution_count": 20,
   "metadata": {},
   "outputs": [],
   "source": [
    "    refundseat(2,3)"
   ]
  },
  {
   "cell_type": "code",
   "execution_count": 21,
   "metadata": {},
   "outputs": [
    {
     "name": "stdout",
     "output_type": "stream",
     "text": [
      "\n",
      "Movie chosen is Wreck-It Ralph\n",
      "('Movie Id:', 2)\n",
      "('Movie Name:', u'Wreck-It Ralph')\n",
      "('Seats Available', 70)\n",
      "('Ticket Price:', 100)\n"
     ]
    }
   ],
   "source": [
    "    showmovie(2)"
   ]
  },
  {
   "cell_type": "code",
   "execution_count": 22,
   "metadata": {},
   "outputs": [],
   "source": [
    "    removemovie(4)\n"
   ]
  },
  {
   "cell_type": "code",
   "execution_count": 23,
   "metadata": {},
   "outputs": [
    {
     "name": "stdout",
     "output_type": "stream",
     "text": [
      "\n",
      "All Movies Played\n",
      "('Movie Id:', 1)\n",
      "('Movie Name:', u'The Hunger Games: Catching Fire')\n",
      "('Seats Available', 100)\n",
      "('Ticket Price:', 120)\n",
      "('Movie Id:', 2)\n",
      "('Movie Name:', u'Wreck-It Ralph')\n",
      "('Seats Available', 70)\n",
      "('Ticket Price:', 100)\n",
      "('Movie Id:', 3)\n",
      "('Movie Name:', u'Her')\n",
      "('Seats Available', 80)\n",
      "('Ticket Price:', 122)\n",
      "('Movie Id:', 5)\n",
      "('Movie Name:', u'La La Land')\n",
      "('Seats Available', 100)\n",
      "('Ticket Price:', 80)\n"
     ]
    }
   ],
   "source": [
    "    showmoviesall()\n"
   ]
  },
  {
   "cell_type": "code",
   "execution_count": null,
   "metadata": {},
   "outputs": [],
   "source": []
  }
 ],
 "metadata": {
  "kernelspec": {
   "display_name": "Python 3",
   "language": "python",
   "name": "python3"
  },
  "language_info": {
   "codemirror_mode": {
    "name": "ipython",
    "version": 2
   },
   "file_extension": ".py",
   "mimetype": "text/x-python",
   "name": "python",
   "nbconvert_exporter": "python",
   "pygments_lexer": "ipython2",
   "version": "2.7.14"
  }
 },
 "nbformat": 4,
 "nbformat_minor": 2
}
